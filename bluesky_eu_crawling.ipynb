{
 "cells": [
  {
   "cell_type": "code",
   "execution_count": 60,
   "id": "a7fcf786",
   "metadata": {},
   "outputs": [
    {
     "name": "stdout",
     "output_type": "stream",
     "text": [
      "Requirement already satisfied: atproto in c:\\users\\regstar\\anaconda3\\envs\\ano\\lib\\site-packages (0.0.49)\n",
      "Requirement already satisfied: click<9,>=8.1.3 in c:\\users\\regstar\\anaconda3\\envs\\ano\\lib\\site-packages (from atproto) (8.1.7)\n",
      "Requirement already satisfied: cryptography<43,>=41.0.7 in c:\\users\\regstar\\anaconda3\\envs\\ano\\lib\\site-packages (from atproto) (42.0.8)\n",
      "Requirement already satisfied: dnspython<3,>=2.4.0 in c:\\users\\regstar\\anaconda3\\envs\\ano\\lib\\site-packages (from atproto) (2.6.1)\n",
      "Requirement already satisfied: httpx<0.27.0,>=0.25.0 in c:\\users\\regstar\\anaconda3\\envs\\ano\\lib\\site-packages (from atproto) (0.26.0)\n",
      "Requirement already satisfied: libipld<2,>=1.1.0 in c:\\users\\regstar\\anaconda3\\envs\\ano\\lib\\site-packages (from atproto) (1.2.3)\n",
      "Requirement already satisfied: pydantic<3,>=2.7 in c:\\users\\regstar\\anaconda3\\envs\\ano\\lib\\site-packages (from atproto) (2.8.2)\n",
      "Requirement already satisfied: typing-extensions<5,>=4.8.0 in c:\\users\\regstar\\anaconda3\\envs\\ano\\lib\\site-packages (from atproto) (4.12.2)\n",
      "Requirement already satisfied: websockets<13,>=12 in c:\\users\\regstar\\anaconda3\\envs\\ano\\lib\\site-packages (from atproto) (12.0)\n",
      "Requirement already satisfied: colorama in c:\\users\\regstar\\anaconda3\\envs\\ano\\lib\\site-packages (from click<9,>=8.1.3->atproto) (0.4.6)\n",
      "Requirement already satisfied: cffi>=1.12 in c:\\users\\regstar\\anaconda3\\envs\\ano\\lib\\site-packages (from cryptography<43,>=41.0.7->atproto) (1.17.0)\n",
      "Requirement already satisfied: anyio in c:\\users\\regstar\\anaconda3\\envs\\ano\\lib\\site-packages (from httpx<0.27.0,>=0.25.0->atproto) (4.4.0)\n",
      "Requirement already satisfied: certifi in c:\\users\\regstar\\anaconda3\\envs\\ano\\lib\\site-packages (from httpx<0.27.0,>=0.25.0->atproto) (2023.7.22)\n",
      "Requirement already satisfied: httpcore==1.* in c:\\users\\regstar\\anaconda3\\envs\\ano\\lib\\site-packages (from httpx<0.27.0,>=0.25.0->atproto) (1.0.5)\n",
      "Requirement already satisfied: idna in c:\\users\\regstar\\anaconda3\\envs\\ano\\lib\\site-packages (from httpx<0.27.0,>=0.25.0->atproto) (3.4)\n",
      "Requirement already satisfied: sniffio in c:\\users\\regstar\\anaconda3\\envs\\ano\\lib\\site-packages (from httpx<0.27.0,>=0.25.0->atproto) (1.3.1)\n",
      "Requirement already satisfied: h11<0.15,>=0.13 in c:\\users\\regstar\\anaconda3\\envs\\ano\\lib\\site-packages (from httpcore==1.*->httpx<0.27.0,>=0.25.0->atproto) (0.14.0)\n",
      "Requirement already satisfied: annotated-types>=0.4.0 in c:\\users\\regstar\\anaconda3\\envs\\ano\\lib\\site-packages (from pydantic<3,>=2.7->atproto) (0.6.0)\n",
      "Requirement already satisfied: pydantic-core==2.20.1 in c:\\users\\regstar\\anaconda3\\envs\\ano\\lib\\site-packages (from pydantic<3,>=2.7->atproto) (2.20.1)\n",
      "Requirement already satisfied: pycparser in c:\\users\\regstar\\anaconda3\\envs\\ano\\lib\\site-packages (from cffi>=1.12->cryptography<43,>=41.0.7->atproto) (2.22)\n",
      "Requirement already satisfied: pandas in c:\\users\\regstar\\anaconda3\\envs\\ano\\lib\\site-packages (2.2.2)\n",
      "Requirement already satisfied: numpy>=1.23.2 in c:\\users\\regstar\\anaconda3\\envs\\ano\\lib\\site-packages (from pandas) (1.26.2)\n",
      "Requirement already satisfied: python-dateutil>=2.8.2 in c:\\users\\regstar\\anaconda3\\envs\\ano\\lib\\site-packages (from pandas) (2.9.0)\n",
      "Requirement already satisfied: pytz>=2020.1 in c:\\users\\regstar\\anaconda3\\envs\\ano\\lib\\site-packages (from pandas) (2024.1)\n",
      "Requirement already satisfied: tzdata>=2022.7 in c:\\users\\regstar\\anaconda3\\envs\\ano\\lib\\site-packages (from pandas) (2024.1)\n",
      "Requirement already satisfied: six>=1.5 in c:\\users\\regstar\\anaconda3\\envs\\ano\\lib\\site-packages (from python-dateutil>=2.8.2->pandas) (1.16.0)\n",
      "Requirement already satisfied: aiohttp in c:\\users\\regstar\\anaconda3\\envs\\ano\\lib\\site-packages (3.10.5)\n",
      "Requirement already satisfied: aiohappyeyeballs>=2.3.0 in c:\\users\\regstar\\anaconda3\\envs\\ano\\lib\\site-packages (from aiohttp) (2.4.0)\n",
      "Requirement already satisfied: aiosignal>=1.1.2 in c:\\users\\regstar\\anaconda3\\envs\\ano\\lib\\site-packages (from aiohttp) (1.3.1)\n",
      "Requirement already satisfied: attrs>=17.3.0 in c:\\users\\regstar\\anaconda3\\envs\\ano\\lib\\site-packages (from aiohttp) (24.2.0)\n",
      "Requirement already satisfied: frozenlist>=1.1.1 in c:\\users\\regstar\\anaconda3\\envs\\ano\\lib\\site-packages (from aiohttp) (1.4.1)\n",
      "Requirement already satisfied: multidict<7.0,>=4.5 in c:\\users\\regstar\\anaconda3\\envs\\ano\\lib\\site-packages (from aiohttp) (6.0.5)\n",
      "Requirement already satisfied: yarl<2.0,>=1.0 in c:\\users\\regstar\\anaconda3\\envs\\ano\\lib\\site-packages (from aiohttp) (1.9.4)\n",
      "Requirement already satisfied: idna>=2.0 in c:\\users\\regstar\\anaconda3\\envs\\ano\\lib\\site-packages (from yarl<2.0,>=1.0->aiohttp) (3.4)\n"
     ]
    }
   ],
   "source": [
    "!pip install atproto\n",
    "!pip install pandas\n",
    "!pip install aiohttp"
   ]
  },
  {
   "cell_type": "code",
   "execution_count": 61,
   "id": "95abda02",
   "metadata": {},
   "outputs": [],
   "source": [
    "import aiohttp\n",
    "import pandas as pd\n",
    "import os\n",
    "import sys"
   ]
  },
  {
   "cell_type": "code",
   "execution_count": 62,
   "id": "92566bfe",
   "metadata": {},
   "outputs": [],
   "source": [
    "# Initialisiere die Liste für die gesammelten Daten\n",
    "all_feeds = []\n",
    "MAX_QUERIES = 300  # Definiere eine maximale Anzahl von Abfragen (eine Abfrage beinhaltet 100 API aufrufe z.B. 300 = ~30000)"
   ]
  },
  {
   "cell_type": "code",
   "execution_count": 63,
   "id": "1a294797",
   "metadata": {},
   "outputs": [],
   "source": [
    "def map_post(post):\n",
    "    try:\n",
    "        return [{\n",
    "            'author': post.get('author').get('displayName') if post.get('author').get('displayName') else post.get('author').get('handle'),\n",
    "            'text': post.get('record').get('text'),\n",
    "            'created_at': post.get('record').get('createdAt'),\n",
    "        }]\n",
    "    except KeyError as e:\n",
    "        print(f\"Schlüssel {e} nicht gefunden im Post\")\n",
    "        return []\n",
    "    \n",
    "def save_to_csv():\n",
    "    if all_feeds:\n",
    "        df = pd.DataFrame(all_feeds)\n",
    "        file_name = 'filtered_feeds.csv'\n",
    "        if os.path.exists(file_name):\n",
    "            df.to_csv(file_name, mode='a', header=False, index=False)\n",
    "        else:\n",
    "            df.to_csv(file_name, index=False)\n",
    "    else:\n",
    "        print(\"\\nKeine Daten zum Speichern vorhanden.\")"
   ]
  },
  {
   "cell_type": "code",
   "execution_count": 64,
   "id": "4ec8741a",
   "metadata": {},
   "outputs": [],
   "source": [
    "async def fetch_post(session, query, cursor=None):\n",
    "    q = {'q': query, 'limit': 100}\n",
    "    if cursor:\n",
    "        q['cursor'] = cursor\n",
    "    try:\n",
    "        async with session.get('https://public.api.bsky.app/xrpc/app.bsky.feed.searchPosts', params=q) as response:\n",
    "            # Überprüfe den Content-Type\n",
    "            content_type = response.headers.get('Content-Type')\n",
    "            if 'application/json' in content_type:\n",
    "                return await response.json()\n",
    "            else:\n",
    "                print(f\"Unerwarteter Content-Type: {content_type}\")\n",
    "                # response_text = await response.text()\n",
    "                # print(f\"Antwortinhalt: {response_text}\")\n",
    "                return None\n",
    "    except Exception as e:\n",
    "        print(f\"Fehler beim Abrufen von Posts: {e}\")\n",
    "        return None\n",
    "\n",
    "async def fetch_replies(session, uri):\n",
    "    try:\n",
    "        async with session.get(f'https://public.api.bsky.app/xrpc/app.bsky.feed.getPostThread', params={'uri': uri, 'depth': 1, 'parentHeight': 0}) as response:\n",
    "            content_type = response.headers.get('Content-Type')\n",
    "            if 'application/json' in content_type:\n",
    "                return await response.json()\n",
    "            else:\n",
    "                print(f\"Unerwarteter Content-Type: {content_type}\")\n",
    "                # response_text = await response.text()\n",
    "                # print(f\"Antwortinhalt: {response_text}\")\n",
    "                return None\n",
    "    except Exception as e:\n",
    "        print(f\"Fehler beim Abrufen von Antworten: {e}\")\n",
    "        return None\n",
    "\n",
    "\n",
    "async def process_posts(session, query):\n",
    "    cursor = None\n",
    "    side = 0\n",
    "    replies_counter = 0\n",
    "    saved_feed_count = 0\n",
    "\n",
    "    print(f\"Werte Suchbegriff {query} aus...\")\n",
    "\n",
    "    while side < MAX_QUERIES:\n",
    "        rawFeeds = await fetch_post(session, query, cursor)\n",
    "\n",
    "        if rawFeeds is None:\n",
    "            continue\n",
    "\n",
    "        for post in rawFeeds.get('posts', []):\n",
    "            all_feeds.extend(map_post(post))\n",
    "\n",
    "            if post.get('replyCount') > 0 and post.get('uri', None) is not None:\n",
    "                replies_counter += post.get('replyCount')\n",
    "                rawThread = await fetch_replies(session, post.get('uri'))\n",
    "\n",
    "                if rawThread is not None:\n",
    "                    for reply in rawThread.get('thread').get('replies', []):\n",
    "                        all_feeds.extend(map_post(reply.get('post')))\n",
    "\n",
    "        cursor = rawFeeds.get('cursor')\n",
    "        side += 1\n",
    "\n",
    "        save_to_csv()\n",
    "        saved_feed_count += len(all_feeds)\n",
    "        all_feeds.clear()\n",
    "\n",
    "        percent_complete = (side / MAX_QUERIES) * 100\n",
    "        sys.stdout.write(f'\\rFortschritt: {percent_complete}% - {saved_feed_count} posts geschrieben, davon {replies_counter} replies')\n",
    "        sys.stdout.flush()\n",
    "\n",
    "async def start():\n",
    "    async with aiohttp.ClientSession() as session:\n",
    "        await process_posts(session, 'europawahl')\n",
    "        # await process_posts(session, 'euwahl')"
   ]
  },
  {
   "cell_type": "code",
   "execution_count": 65,
   "id": "5f97f75e",
   "metadata": {},
   "outputs": [
    {
     "name": "stdout",
     "output_type": "stream",
     "text": [
      "Werte Suchbegriff europawahl aus...\n",
      "Fortschritt: 100.0% - 55959 posts geschrieben, davon 26973 replies6859 repliess"
     ]
    }
   ],
   "source": [
    "# Ausführung des asynchronen Codes\n",
    "await start()  # Direktes Ausführen der async-Funktion"
   ]
  }
 ],
 "metadata": {
  "kernelspec": {
   "display_name": "Python 3 (ipykernel)",
   "language": "python",
   "name": "python3"
  },
  "language_info": {
   "codemirror_mode": {
    "name": "ipython",
    "version": 3
   },
   "file_extension": ".py",
   "mimetype": "text/x-python",
   "name": "python",
   "nbconvert_exporter": "python",
   "pygments_lexer": "ipython3",
   "version": "3.11.5"
  }
 },
 "nbformat": 4,
 "nbformat_minor": 5
}
